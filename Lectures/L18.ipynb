{
 "cells": [
  {
   "cell_type": "markdown",
   "id": "9d9168b6",
   "metadata": {},
   "source": [
    "## Lecture 18 - Ampere's Law\n",
    "\n",
    "In the last 3 lectures we have looked at effects of magnetic fields, ie. the forces they exert on moving charges. \n",
    "\n",
    "\n",
    "In the next 3 we will look at their origins, the magnetic fields produced by various current configurations and the nature of materials that produce and respond to magnetic fields in particular ways.\n"
   ]
  },
  {
   "cell_type": "markdown",
   "id": "8fcea900",
   "metadata": {},
   "source": [
    "### Ampere's Law\n",
    "\n",
    "[Ampere's Law](https://en.wikipedia.org/wiki/Ampère's_circuital_law) is a useful way to determine magnetic field in cases where symmetry makes it practical. It is valid in cases where the magnetic field is static, or in other words when steady currents flow. It also does not apply when magnetic materials are present. (It can however be modified to deal with both changing currents and magnetic materials).\n",
    "\n",
    "Ampere's law relates the magnetic field that runs around the edge of a closed surface to the current that passes through that surface and is\n",
    "\n",
    "$\\oint\\vec{B}\\cdot\\,d\\vec{l}=\\mu_{0}I_{encl}$\n",
    "\n",
    "The new constant $\\mu_{0}=4\\pi\\times10^{-7}\\mathrm{Tm/A}$ is called the permeability of free space.\n",
    "\n",
    "$d\\vec{l}$ is an infinitesimally small length element which points in the direction of a the path around the edge.While any path/surface can be chosen, smart use of Ampere's law relies on using symmetry to make the integral easy.\n",
    "\n"
   ]
  },
  {
   "cell_type": "markdown",
   "id": "e8c7c58f",
   "metadata": {},
   "source": [
    "### Field due to a current carrying wire\n",
    "\n",
    "For a current carrying wire the right hand rule tells us to choose a circular loop centered on the wire, in which case \n",
    "\n",
    "$\\oint\\vec{B}\\cdot d\\vec{l}=\\oint B\\,dl$\n",
    "\n",
    "because $\\vec{B}$ is always parallel to $d\\vec{l}$, and as the path is circular\n",
    "\n",
    "$\\oint B\\,dl=B\\oint \\,dl=B(2\\pi r)$\n",
    "\n",
    "So we find that \n",
    "\n",
    "$B(2\\pi r)=\\mu_{0}I\\to B=\\frac{\\mu_{0}I}{2\\pi r}$\n",
    "\n",
    "\n",
    "![im.pmg](images/amperewire.png)"
   ]
  },
  {
   "cell_type": "markdown",
   "id": "e507a268",
   "metadata": {},
   "source": [
    "### Force between two parallel current carrying wires\n",
    "\n",
    "If we consider two wires in parallel carrying $I_{1}$ and $I_{2}$, separated by a distance $d$ the field due to the first wire at the position of the second is \n",
    "\n",
    "$B_{1}=\\frac{\\mu_{0}}{2\\pi}\\frac{I_{1}}{d}$\n",
    "\n",
    "so the force experienced a segment of the second wire of length $l_{2}$ is \n",
    "\n",
    "$F_{2}=I_{2}B_{1}l_{2}=\\frac{\\mu_{0}}{2\\pi}\\frac{I_{1}I_{2}}{d}l_{2}$\n",
    "\n",
    "The force exerted on the other wire is of course equal and opposite, which can be deduced either from Newton's third law or by considering the field from wire 2 on wire 1. \n",
    "\n",
    "The direction of the force depends on the relative directions of the current, wires with currents in the same direction experience and attractive force, those with currents in opposite directions repel each other.\n",
    "\n",
    "\n",
    "![im.png](images/forcebetweenwires.png)"
   ]
  },
  {
   "cell_type": "markdown",
   "id": "fa189a68",
   "metadata": {},
   "source": [
    "### Field due to two wires\n",
    "\n",
    "When we consider the magnetic field due to more than one field source we need to remember to take in to account the magnetic field is a vector. This can be nicely visualized using [this applet](http://www.falstad.com/vector3dm/).\n",
    "\n",
    "We should reconcile the field distributions we get with Ampere&#039;s law. The magnetic field along the path can come from more than one source, but the integral is equal only to the enclosed current. This means that in the situations we just looked at where the field is either larger or smaller at the point between the wires, the change in $\\vec{B}\\cdot\\,d\\vec{l}$ must be compensate by a change in $\\vec{B}\\cdot\\,d\\vec{l}$ somewhere else on the path so that $\\oint\\vec{B}\\cdot\\,d\\vec{l}$ is no different from when a single wire is isolated. \n",
    "</p>\n",
    "\n",
    "</div>\n",
    "\n",
    "<h2 class=\"sectionedit7\" id=\"magnetic_field_inside_a_wire\">"
   ]
  },
  {
   "cell_type": "markdown",
   "id": "fad50492",
   "metadata": {},
   "source": [
    "### Magnetic Field inside a wire\n",
    "\n",
    "Within a uniform wire carrying a current $I$ the magnetic field as a function of $r$ can be found from\n",
    "\n",
    "$\\oint\\vec{B}\\cdot d\\vec{l}=B(2\\pi r)=\\mu_{0}I_{encl}$\n",
    "\n",
    "Inside the wire $I_{encl}=I\\frac{\\pi r^{2}}{\\pi R^{2}}$ so\n",
    "\n",
    "$B(2\\pi r)=\\mu_{0}I\\frac{\\pi r^{2}}{\\pi R^{2}}\\to B=\\frac{\\mu_{0}Ir}{2\\pi R^{2}}$\n",
    "\n",
    "Outside the wire $I_{encl}=I$ so\n",
    "\n",
    "$B=\\frac{\\mu_{0}I}{2\\pi r}$\n",
    "\n",
    "\n",
    "![im.png](images/magfieldinawire.png)"
   ]
  },
  {
   "cell_type": "markdown",
   "id": "185671ef",
   "metadata": {},
   "source": [
    "### Magnetic field of a solenoid\n",
    "\n",
    "In a tightly wound [solenoid](https://en.wikipedia.org/wiki/Solenoid)  we can deduce that the field strength inside is much greater than outside, and that also components of the magnetic field perpendicular to the solenoid axis cancel out. [Falstad's applet](http://www.falstad.com/vector3dm/) is useful for visualizing this.\n",
    "\n",
    "![im.png](images/amperesolenoid.png)\n",
    "\n",
    "We can see that the integral $\\oint\\vec{B}\\cdot d\\vec{l}$ reduces to $\\int_{c}^{d} B dl$ which is simply $Bl$. If the rectangle includes $N$ wires then\n",
    "\n",
    "$Bl=\\mu_{0}NI$\n",
    "\n",
    "This is more usefully expressed in terms of the number density of wires in a unit length, $n$\n",
    "\n",
    "$B=\\mu_{0}\\frac{N}{l}I=\\mu_{0}nI$\n",
    "\n",
    "One important point to realize is that the field inside the solenoid is uniform, we could place the edge of our rectangle in any position within the solenoid and get the same result."
   ]
  },
  {
   "cell_type": "markdown",
   "id": "dbde6026",
   "metadata": {},
   "source": [
    "### Magnetic field of a toroidal solenoid\n",
    "\n",
    "Similar arguments can be made for torodial solenoid, except here we must consider that the path along which the field is constant is bent. As we have a full circle we can take a circular path of radius $r$. Click [here](http://hyperphysics.phy-astr.gsu.edu/hbase/magnetic/toroid.html) for a figure that illustrates the geometry.\n",
    "\n",
    "Within the interior radius of the torodial solenoid the enclosed current is zero, and thus also the magnetic field is zero, as\n",
    "\n",
    "$\\oint\\vec{B}\\cdot d\\vec{l}=B(2\\pi r)=0$\n",
    "\n",
    "Within the solenoid, which has $N$ turns\n",
    "\n",
    "$\\oint\\vec{B}\\cdot d\\vec{l}=B(2\\pi r)=\\mu_{0}NI\\to B=\\frac{\\mu_{0}NI}{2\\pi r}$\n",
    "\n",
    "And outside of the solenoid we again find \n",
    "\n",
    "$\\oint\\vec{B}\\cdot d\\vec{l}=B(2\\pi r)=0$\n"
   ]
  },
  {
   "cell_type": "code",
   "execution_count": null,
   "id": "88199beb",
   "metadata": {},
   "outputs": [],
   "source": []
  }
 ],
 "metadata": {
  "kernelspec": {
   "display_name": "Python 3 (ipykernel)",
   "language": "python",
   "name": "python3"
  },
  "language_info": {
   "codemirror_mode": {
    "name": "ipython",
    "version": 3
   },
   "file_extension": ".py",
   "mimetype": "text/x-python",
   "name": "python",
   "nbconvert_exporter": "python",
   "pygments_lexer": "ipython3",
   "version": "3.9.10"
  }
 },
 "nbformat": 4,
 "nbformat_minor": 5
}
