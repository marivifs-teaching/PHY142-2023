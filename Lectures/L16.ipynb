{
 "cells": [
  {
   "cell_type": "markdown",
   "id": "d4b20297",
   "metadata": {},
   "source": [
    "## Lecture 16 - Magnetic Force"
   ]
  },
  {
   "cell_type": "markdown",
   "id": "26305781",
   "metadata": {},
   "source": [
    "### Magnitude of magnetic field\n",
    "\n",
    "For a wire of length $\\vec{l}$ which lies within a magnetic field $\\vec{B}$ and carries a current $I$\n",
    "\n",
    "$\\vec{F}=I\\vec{l}\\times\\vec{B}$\n",
    "\n",
    "or in the diagram below\n",
    "\n",
    "$F=IlB\\sin\\theta$\n",
    "![im.png](images/magforceonwire.png)\n",
    "\n",
    "We can also chop the length up in to infinitesimal pieces which produce infinitesimal forces to accommodate a wire that changes it's direction with respect to a magnetic field, or a non-uniform magnetic field.\n",
    "\n",
    "$d\\vec{F}=I\\,d\\vec{l}\\times\\vec{B}$\n",
    "\n"
   ]
  },
  {
   "cell_type": "markdown",
   "id": "bd50e13d",
   "metadata": {},
   "source": [
    "### Measuring a field using the force\n",
    "\n",
    "![im.png](images/balanceforceonwire.png)\n",
    "\n",
    "In the situation above the net force on the wire is from the length $l$ at the bottom of the loop and is of magnitude \n",
    "\n",
    "$F=IlB$\n",
    "\n",
    "There are forces on the wires on the side of the loop but for a rigid loop these cancel out\n",
    "\n",
    "We can thus measure the magnetic field using \n",
    "\n",
    "$B=\\frac{F}{Il}$\n",
    "\n",
    "where the force can measured from the change in the apparent weight of the object. "
   ]
  },
  {
   "cell_type": "markdown",
   "id": "4b7ee2fa",
   "metadata": {},
   "source": [
    "### Force on a curved wire\n",
    "\n",
    "Let us now consider a similar situation, but one in which the bottom of the loop is a semicircle.\n",
    "![im.png](images/semicirclewireinb.png)\n",
    "\n",
    "The force $d\\vec{F}=I\\,d\\vec{l}\\times\\vec{B}$ on the semicircular part of the wire is directed radially outwards. The magnitude is\n",
    "\n",
    "$dF=IBR\\,d\\phi$\n",
    "\n",
    "But horizontal components force cancel each other out, so that the total force is\n",
    "\n",
    "$\\int_{0}^{\\pi}\\,dF\\sin\\phi=\\int_{0}^{\\pi}IBR\\sin\\phi\\,d\\phi=IBR\\int_{0}^{\\pi}\\sin\\phi\\,d\\phi=IBR[-\\cos\\phi]_{0}^{\\pi}=2IBR$\n",
    "\n",
    "The length of wire in the semicircle is $l=\\pi R$ so as compared to the straight case the force is reduced by a factor $\\frac{2}{\\pi}$."
   ]
  },
  {
   "cell_type": "markdown",
   "id": "5fe7b91e",
   "metadata": {},
   "source": [
    "### Force on a moving charge\n",
    "\n",
    "Electric charges in a wire feel a force but are not free to leave the wire, so the effect is force on the wire. Free electrons in a magnetic field also feel a force and are free to respond to it. In the same way as wire only feels a magnetic force when a current flows, charges only feel a magnetic force when they are moving and the force depends on the velocity. For a single charge $q$\n",
    "\n",
    "$\\vec{F}=q\\vec{v}\\times\\vec{B}$\n",
    "\n",
    "As before we can use a right hand rule to determine the direction of the force, we simply replace the current with the direction of the velocity of the charge."
   ]
  },
  {
   "cell_type": "markdown",
   "id": "d5a501ba",
   "metadata": {},
   "source": [
    "### Path of an electron in a uniform magnetic field\n",
    "\n",
    "![im.png](images/electroncircularpath.png)\n",
    "\n",
    "We can show that the path of an electron moving in a uniform magnetic field is a circle. As we will recall from when we studied uniform circular motion, a force perpendicular to the velocity changes the direction of the velocity only, not it's magnitude. The centripetal force is provided by the magnetic field\n",
    "\n",
    "$\\frac{mv^{2}}{r}=qvB$\n",
    "\n",
    "The radius of the circle is then \n",
    "\n",
    "$r=\\frac{mv}{qB}$\n",
    "\n",
    "We can see that we could use this to measure the ratio of the charge of an electron to it's mass. \n",
    "\n",
    "The time it takes for an electron to go round the circle is \n",
    "\n",
    "$T=\\frac{2\\pi r}{v}=\\frac{2\\pi m}{qB}$\n",
    "\n",
    "and the frequency, which we call the [cyclotron](https://en.wikipedia.org/wiki/Cyclotron) frequency, is\n",
    "\n",
    "$f=\\frac{1}{T}=\\frac{qB}{2\\pi m}$\n",
    "\n",
    "If you would like to try to build a cyclotron, take a look [here](https://physicstoday.scitation.org/doi/10.1063/1.1839371) and [here](http://www.physics.rutgers.edu/cyclotron/)."
   ]
  },
  {
   "cell_type": "markdown",
   "id": "95dffe49",
   "metadata": {},
   "source": [
    "### Helical Paths\n",
    "\n",
    "Velocity components not perpendicular to the field are not affected by it. Therefore a charged particle which is moving at some angle to the field will follow a helical path around the direction of the field.\n",
    "\n",
    "![im.png](images/helicalpath.png)\n",
    "\n",
    "If the field strength increases the radius of the helical path decreases. In the case of charged particles traveling along the Earth's magnetic fields this leads to a concentration of charge particles near the poles which we see as [Aurora](https://en.wikipedia.org/wiki/Aurora_(astronomy)).\n"
   ]
  },
  {
   "cell_type": "markdown",
   "id": "36db7555",
   "metadata": {},
   "source": [
    "### Lorentz Equation\n",
    "The Lorentz equation combines the electric force and the magnetic force on an charged particle\n",
    "\n",
    "$\\vec{F}=q(\\vec{E}+\\vec{v}\\times\\vec{B})$\n"
   ]
  },
  {
   "cell_type": "markdown",
   "id": "2c05f3cb",
   "metadata": {},
   "source": [
    "### Torque on a current loop\n",
    "\n",
    "![im.png](images/torqueoncurrentloop.png)\n",
    "\n",
    "A current loop which can rotate around it's axis can experience a torque whenplaced in a uniform magnetic field.\n",
    "\n",
    "When the loop is aligned with the field the net torque experienced will be \n",
    "\n",
    "$\\tau=IaB\\frac{b}{2}+IaB\\frac{b}{2}=IabB=IAB$\n",
    "\n",
    "Where $A$ is the area of the loop. For $N$ loops the formula just becomes\n",
    "\n",
    "$\\tau=NIAB$\n",
    "\n",
    "However we can see that when the loop makes an angle $\\theta$ with the field\n",
    "\n",
    "$\\tau=NIAB\\sin\\theta$"
   ]
  },
  {
   "cell_type": "markdown",
   "id": "a8d28a86",
   "metadata": {},
   "source": [
    "### Magnetic Dipole Moment\n",
    "\n",
    "![im.png](images/torqueoncurrentloop.png)\n",
    "\n",
    "A good way to represent the orientation dependence of the torque is to define a new vector quantity, the magnetic dipole moment\n",
    "\n",
    "$\\vec{\\mu}=NI\\vec{A}$\n",
    "\n",
    "The direction of the vector can be determined by the right hand rule and we may now write the torque as\n",
    "\n",
    "$\\vec{\\tau}=\\vec{\\mu}\\times\\vec{B}$\n",
    "\n",
    "Note that this has the same form as the torque of an electric dipole moment in an electric field\n",
    "\n",
    "$\\vec{\\tau}=\\vec{p}\\times\\vec{E}$\n",
    "\n",
    "![im.png](images/torqueEdipole.png)\n"
   ]
  },
  {
   "cell_type": "code",
   "execution_count": null,
   "id": "d840fb6e",
   "metadata": {},
   "outputs": [],
   "source": []
  }
 ],
 "metadata": {
  "kernelspec": {
   "display_name": "Python 3 (ipykernel)",
   "language": "python",
   "name": "python3"
  },
  "language_info": {
   "codemirror_mode": {
    "name": "ipython",
    "version": 3
   },
   "file_extension": ".py",
   "mimetype": "text/x-python",
   "name": "python",
   "nbconvert_exporter": "python",
   "pygments_lexer": "ipython3",
   "version": "3.9.10"
  }
 },
 "nbformat": 4,
 "nbformat_minor": 5
}
