{
 "cells": [
  {
   "cell_type": "markdown",
   "id": "61ebe408",
   "metadata": {},
   "source": [
    "## Lecture 17- Applications of Magnetic Forces"
   ]
  },
  {
   "cell_type": "markdown",
   "id": "ce79da19",
   "metadata": {},
   "source": [
    "### Hall Effect\n",
    "\n",
    "If we have a magnetic field applied at right angles to a current carrying wire the charges moving in the conductor will experience a magnetic force. The charge carriers in the conductor will redistribute themselves to produce an internal electric field at right angles to the current and field so that the net force on a charge carrier is zero (or in other words, the system is in equilibrium).  The size of the field can be found by considering the Lorentz equation. \n",
    "\n",
    "$\\vec{F}=q(\\vec{E}+\\vec{v}\\times\\vec{B})$\n",
    "\n",
    "The field required to achieve equilibrium is\n",
    "\n",
    "$E_{H}=v_{d}B$\n",
    "\n",
    "where we should recall that $v_{d}$ is the drift velocity of the carriers in the conductor.\n",
    "\n",
    "What is neat about the [Hall effect](https://en.wikipedia.org/wiki/Hall_effect) is that the direction of the field depends on whether the carriers are positive or negative charges. The Hall field $E_{H}$ leads to a Hall emf across the sample proportional to it's thickness $\\mathcal{E}_{H}=E_{H}d=v_{d}Bd$\n",
    "\n",
    "![im.png](images/halleffect.png)"
   ]
  },
  {
   "cell_type": "markdown",
   "id": "f7d8ca51",
   "metadata": {},
   "source": [
    "### Mass Spectrometer\n",
    "\n",
    "A [mass spectrometer](https://en.wikipedia.org/wiki/Mass_spectrometry) separates particles according their mass to charge ratio.\n",
    "\n",
    "\n",
    "Combining the Lorentz equation $\\vec{F}=q(\\vec{E}+\\vec{v}\\times\\vec{B})$  with Newton&#039;s Second Law \n",
    "$\\vec{F}=m\\vec{a}$ gives us the equation of motion for charged particles in electromagnetic fields\n",
    "\n",
    "\n",
    "$\\frac{m}{q}\\vec{a}=(\\vec{E}+\\vec{v}\\times\\vec{B})$\n",
    "\n",
    "\n",
    "Various methods can be used to separate the particles according to their $\\frac{m}{q}$ ratio."
   ]
  },
  {
   "cell_type": "markdown",
   "id": "7d4c9b62",
   "metadata": {},
   "source": [
    "### Galvanometer\n",
    "\n",
    "![im.png](images/galvanometer.png)\n",
    "\n",
    "We can use the torque experienced by a loop in a magnetic field to produce a meter which measures current, ie. a [Galvanometer](https://en.wikipedia.org/wiki/Galvanometer). In these devices a restoring force, usually provided by a torsion spring is required to bring the needle back to zero when no current is flowing.\n",
    "\n",
    "The current flowing through the loop produces a torque\n",
    "\n",
    "$\\tau=NIAB\\sin\\theta$\n",
    "\n",
    "where $\\theta$ is the angle between the magnetic moment of the loop and the field.\n",
    "\n",
    "This is balanced by the restoring force of the spring\n",
    "\n",
    "$\\tau=k\\phi$\n",
    "\n",
    "so that the deflection of the needle $\\phi$ from it&#039;s zero position gives a measure of the current\n",
    "\n",
    "$\\phi=\\frac{NIAB\\sin\\theta}{k}$\n",
    "\n",
    "Ideally we would like to eliminate the dependence on $\\theta$ and a combination of curved magnets and a iron core within the galvanometer coil are used so that the field is always as the same orientation to the wire coil.\n"
   ]
  },
  {
   "cell_type": "markdown",
   "id": "5cc41eb3",
   "metadata": {},
   "source": [
    "### Motors\n",
    "\n",
    "Even with curved pole pieces we can see that if the coil in a galvanometer rotates past the point where the magnetic moment is aligned with the field the direction of the torque reverses, the result would be an oscillatory motion around this position. In a motor we want to achieve torque which drives a continuous rotation. We can achieve this if the current would switch direction as we pass through the point where the torque is zero. With a DC source this is achieved using a [commutator](https://en.wikipedia.org/wiki/Commutator_(electric)).\n"
   ]
  },
  {
   "cell_type": "markdown",
   "id": "27cf217c",
   "metadata": {},
   "source": [
    "### Simple motor</h2>\n",
    "<div class=\"level2\">\n",
    "\n",
    "<p>\n",
    "Can we make a motor using a DC source without commutation?\n",
    "</p>\n",
    "\n",
    "<p>\n",
    "Let&#039;s see what we can do with  \n",
    "</p>\n",
    "<ul>\n",
    "<li class=\"level1\"><div class=\"li\"> 1 AA Battery</div>\n",
    "</li>\n",
    "<li class=\"level1\"><div class=\"li\"> 1 strong neodymium magnet</div>\n",
    "</li>\n",
    "<li class=\"level1\"><div class=\"li\"> 1 screw</div>\n",
    "</li>\n",
    "<li class=\"level1\"><div class=\"li\"> 1 small length of wire</div>\n",
    "</li>\n",
    "</ul>\n",
    "\n",
    "</div>\n"
   ]
  },
  {
   "cell_type": "markdown",
   "id": "a41e249d",
   "metadata": {},
   "source": [
    "### Homopolar motor</h2>\n",
    "<div class=\"level2\">\n",
    "\n",
    "<p>\n",
    "The device we have just assembled is a <a href=\"https://en.wikipedia.org/wiki/Homopolar_motor\" class=\"interwiki iw_wp\" title=\"https://en.wikipedia.org/wiki/Homopolar_motor\">homopolar motor</a>. This is in fact the earliest kind of electric motor and was first demonstrated by Michael Faraday in 1821. The device can be most easily understood by considering the force exerted by the magnet on the wire which we can see is in to the page. For parts of the wire far from the magnet the forces are not as strong as those close to the magnet, also, the strongest magnetic forces on the wire are those close to the magnet and the reaction forces, which are out of the page are experienced by parts of the magnet close to the wire thus producing an anticlockwise (when seen from the bottom) torque. (In fact, as drawn, all of the reaction forces will be felt on the same side of the magnet)\n",
    "</p>\n",
    "\n",
    "<p>\n",
    "<a href=\"/~mdawber/_detail/phy142:lectures:homopolarmotor.png?id=phy142%3Alectures%3A17\" class=\"media\" title=\"phy142:lectures:homopolarmotor.png\"><img src=\"/~mdawber/_media/phy142:lectures:homopolarmotor.png\" class=\"media\" alt=\"\" /></a>\n",
    "</p>\n"
   ]
  },
  {
   "cell_type": "markdown",
   "id": "3f598931",
   "metadata": {},
   "source": [
    "### Half cycle motor</h2>\n",
    "<div class=\"level2\">\n",
    "\n",
    "<p>\n",
    "We will now construct a simple motor in which torque is only generated during half the cycle (a simple form of commutation). Our equipment for this is:\n",
    "</p>\n",
    "<ul>\n",
    "<li class=\"level1\"><div class=\"li\"> 1 AA battery</div>\n",
    "</li>\n",
    "<li class=\"level1\"><div class=\"li\"> 2 paperclips</div>\n",
    "</li>\n",
    "<li class=\"level1\"><div class=\"li\"> 1 strong neodymium magnet</div>\n",
    "</li>\n",
    "<li class=\"level1\"><div class=\"li\"> A length of magnet wire, which we will make into a coil</div>\n",
    "</li>\n",
    "</ul>\n",
    "\n",
    "<p>\n",
    "The key to making this motor work is that on one end only one side of the insulation is removed, so only in half a cycle will a current flow and the torque will always be in the same direction.\n",
    "</p>\n"
   ]
  },
  {
   "cell_type": "code",
   "execution_count": null,
   "id": "d9f1d4b6",
   "metadata": {},
   "outputs": [],
   "source": []
  }
 ],
 "metadata": {
  "kernelspec": {
   "display_name": "Python 3 (ipykernel)",
   "language": "python",
   "name": "python3"
  },
  "language_info": {
   "codemirror_mode": {
    "name": "ipython",
    "version": 3
   },
   "file_extension": ".py",
   "mimetype": "text/x-python",
   "name": "python",
   "nbconvert_exporter": "python",
   "pygments_lexer": "ipython3",
   "version": "3.9.10"
  }
 },
 "nbformat": 4,
 "nbformat_minor": 5
}
