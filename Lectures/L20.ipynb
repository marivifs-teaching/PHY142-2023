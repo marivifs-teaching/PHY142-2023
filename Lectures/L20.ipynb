{
 "cells": [
  {
   "cell_type": "markdown",
   "id": "7d79bee7",
   "metadata": {},
   "source": [
    "## Lecture 20 - Magnetic Materials"
   ]
  },
  {
   "cell_type": "markdown",
   "id": "5e05821f",
   "metadata": {},
   "source": [
    "### Orbital Magnetic Moment\n",
    "\n",
    "We saw in our last lecture that a current loop could be described in terms of a magnetic dipole moment $\\vec{\\mu}=I\\vec{A}$. If we imagine a highly oversimplified picture of an atom with an electron going around it in a circular orbit of radius $r$ with velocity $\\vec{v}$ we can see that the atom would have a magnetic moment.\n",
    "\n",
    "$\\mu_{orb}=IA=\\frac{ev}{2\\pi r}\\pi r^{2}=\\frac{evr}{2}$\n",
    "\n",
    "It is desirable to express this in terms of the orbital angular momentum $\\vec{L}=m\\vec{r}\\times\\vec{v}$ leading to \n",
    "\n",
    "$\\vec{\\mu}_{orb}=\\frac{-e}{2m}\\vec{L}$\n",
    "![im.png](images/orbitalmagneticmoment.png)"
   ]
  },
  {
   "cell_type": "markdown",
   "id": "9edc4f6a",
   "metadata": {},
   "source": [
    "### Electron spin magnetic moment\n",
    "\n",
    "In addition to the magnetic moment an atom possesses due to the angular momentum of electrons orbiting around it they also possess a magnetic moment which comes from the angular momentum of the electrons themselves, the so called spin of the electron. The spin of an electron is a quantum mechanical property of the electron, and while we should not think of an electron as physically spinning the result of electron spin is that each electron has a magnetic moment\n",
    "\n",
    "\n",
    "$\\vec{\\mu}_{s}=-g\\frac{e}{2m}\\vec{S}$\n",
    "\n",
    "\n",
    "In the above the spin of an electron is either $\\vec{S}=+\\frac{1}{2}\\hbar$ or $\\vec{S}=-\\frac{1}{2}\\hbar$ and $g$ is a factor which is different for different particles. For an electron $g=2.0023193043622$. This factor is known to great precision, and the deviation from exactly two is due to quantum electrodynamics.\n",
    "\n",
    "The magnetic moment of an atom is obtained from the sum of the orbital magnetic moments and spin magnetic moments from all of the electrons in the atom. Some atoms will have a total magnetic moment and others will not.\n"
   ]
  },
  {
   "cell_type": "markdown",
   "id": "101a74d1",
   "metadata": {},
   "source": [
    "### Magnetism inside a material\n",
    "\n",
    "We have shown that atoms inside a material can have magnetic dipole moments. This does not necessarily imply that they will have them, nor that they will all point in the same direction. The quantity that measures the net magnetic dipole moment per unit volume is the magnetization $\\vec{M}$. The magnetic field inside the material $\\vec{B}$ is given by\n",
    "\n",
    "$\\vec{B}=\\vec{B}_{0}+\\mu_{0}\\vec{M}$\n",
    "\n",
    "where $\\vec{B}_{0}$ is the external magnetic field applied to the material. Normally when dealing with magnetic materials we usually rewrite the external field as the magnetic field strength\n",
    "\n",
    "$\\vec{H}=\\frac{\\vec{B}_{0}}{\\mu_{0}}$\n",
    "\n",
    "and then\n",
    "\n",
    "$\\vec{B}=\\mu_{0}(\\vec{M}+\\vec{H})$\n"
   ]
  },
  {
   "cell_type": "markdown",
   "id": "a6b3ab83",
   "metadata": {},
   "source": [
    "### Diamagnetism\n",
    "\n",
    "[Diamagnetism](https://en.wikipedia.org/wiki/Diamagnetism) is the weakest form of magnetism, and is experienced by all materials, but is only significant in materials where the atoms have no total magnetic moment. When a magnetic field is applied the orbitals of the electrons are affected in such a way that an magnetic moment which opposes the field develops.\n",
    "\n",
    "The result is that diamagnets experience a repulsive force in an applied magnetic field. \n",
    "\n",
    "As water is diamagnetic a sufficiently strong magnetic field can be used to levitate [all sorts of diamagnetic objects, including frogs](https://www.ru.nl/hfml/research/levitation-explained/diamagnetic-levitation/).\n",
    "\n",
    "A superconductor, although it works on a macroscopic, rather than microscopic level, acts as a perfect diamagnet, and [levitation](https://www.youtube.com/watch?v=IBW6PFKtl-o) can be achieved with a much smaller magnetic field.\n",
    "\n",
    "![im.png](images/hitclev.jpeg)"
   ]
  },
  {
   "cell_type": "markdown",
   "id": "61e8b33d",
   "metadata": {},
   "source": [
    "### Paramagnetism\n",
    "\n",
    "If the atoms in a material have a magnetic moment then much stronger effects than diamagnetism occur. In a [paramagnet](https://en.wikipedia.org/wiki/Paramagnetism) the magnetic dipoles are normally randomly oriented due to thermal motion.  However, in a magnetic field the dipoles align themselves to produce a magnetization in the same direction as the field."
   ]
  },
  {
   "cell_type": "markdown",
   "id": "b86e7d03",
   "metadata": {},
   "source": [
    "###  Magnetic Shielding\n",
    "\n",
    "An example of a very good paramagnetic material, is [mu-metal](https://en.wikipedia.org/wiki/Mu-metal), this is a nickel-iron alloy that can be used as magnetic shielding because it redirects the magnetic field lines. We can consider paramagnets as focusing the lines of magnetic flux, and diamagnets as excluding them."
   ]
  },
  {
   "cell_type": "markdown",
   "id": "0368268a",
   "metadata": {},
   "source": [
    "### Magnetic Susceptibility\n",
    "\n",
    "The response of a material to a magnetic field can be written in terms of the [magnetic susceptibility](https://en.wikipedia.org/wiki/Magnetic_susceptibility) $\\chi$\n",
    "\n",
    "$\\vec{M}=\\chi\\vec{H}$\n",
    "\n",
    "Diamagnets have a negative susceptibility ($\\chi<0$) and paramagnets have a positive susceptibility ($\\chi>0$).\n",
    "\n",
    "Related to the susceptibility is the  [magnetic permeability](https://en.wikipedia.org/wiki/Permeability_(electromagnetism)) $\\mu$, which is NOT the same as the magnetic moment $\\vec{\\mu}$. \n",
    "\n",
    "The permeability and susceptibility are related through the equation\n",
    "\n",
    "$\\mu=\\chi+1$\n",
    "\n",
    "The susceptibility of a paramagnet follows the [Curie Law](https://en.wikipedia.org/wiki/Curie's_law)\n",
    "\n",
    "$\\chi=\\frac{C}{T}$\n",
    "\n",
    "where $C$ is a material constant and $T$ is the temperature in Kelvin. By contrast diamagnets have temperature independent susceptibility.\n",
    "![im.png](images/magneticsusceptibility.png)"
   ]
  },
  {
   "cell_type": "markdown",
   "id": "548eefdb",
   "metadata": {},
   "source": [
    "### Ferromagnetism\n",
    "\n",
    "In a ferromagnet the magnetic dipoles interact very strongly with each other and therefore arrange themselves in the same direction, giving the material a magnetization even when no magnetic field is applied. As field is applied in the direction of the magnetization it only increases a little until the saturation magnetization $M_{C}$ is reached The direction of the magnetization can be reversed by application of a magnetic field in the opposite direction to the magnetization which exceeds a certain value, $H_{C}$ the coercive field. These properties give rise to the phenomenon of magnetic [hysteresis](https://en.wikipedia.org/wiki/Hysteresis).\n",
    "\n",
    "![im.peg](images/hysteresis1.png)"
   ]
  },
  {
   "cell_type": "markdown",
   "id": "d900930e",
   "metadata": {},
   "source": [
    "### Domains\n",
    "\n",
    "In a ferromagnet the mangetic dipoles would always like to all point in the same direction, but frequently we see that a ferromagnetic material does not appear to be magnetized. This occurs because the material can split into ferromagnetic [domains](https://en.wikipedia.org/wiki/Magnetic_domains), and while in each domain all the dipoles point in the same direction, the overall direction of each domain can be different. When a ferroelectric material which initially has zero net magnetization, due to domains, is placed in a magnetic field it shows a different $M-H$ curve until it is fully magnetized after which hysteresis is observed. The driving force behind the formation of the domains is the energetic drive to minimize the external magnetic field around the sample. \n",
    "\n",
    "![im.png](images/hysteresisdomains.png)"
   ]
  },
  {
   "cell_type": "markdown",
   "id": "0f1277a5",
   "metadata": {},
   "source": [
    "### Curie Temperature\n",
    "\n",
    "While the interactions between magnetic dipoles in a ferromagnetic are typically strong they can be overcome by thermal motion, and when a characteristic temperature, the Curie temperature $T_{C}$ is overcome the material become paramagnetic. The susceptibility of a ferromagnet above $T_{C}$ is described by a Curie-Weiss Law\n",
    "\n",
    "$\\chi=\\frac{C}{T-T_{C}}$\n",
    "\n",
    "The [neodymium iron boride] magnets have a fairly low transition temperature, around 310&^o</sup>C.\n",
    "</p>\n",
    "\n",
    "<p>\n",
    "For more on magnetic materials, see the <a href=\"http://www.irm.umn.edu/hg2m/hg2m_index.html\" class=\"urlextern\" title=\"http://www.irm.umn.edu/hg2m/hg2m_index.html\">Hitchhiker&#039;s guide to magnetism</a>.\n",
    "</p>"
   ]
  },
  {
   "cell_type": "code",
   "execution_count": null,
   "id": "91358665",
   "metadata": {},
   "outputs": [],
   "source": []
  }
 ],
 "metadata": {
  "kernelspec": {
   "display_name": "Python 3 (ipykernel)",
   "language": "python",
   "name": "python3"
  },
  "language_info": {
   "codemirror_mode": {
    "name": "ipython",
    "version": 3
   },
   "file_extension": ".py",
   "mimetype": "text/x-python",
   "name": "python",
   "nbconvert_exporter": "python",
   "pygments_lexer": "ipython3",
   "version": "3.9.10"
  }
 },
 "nbformat": 4,
 "nbformat_minor": 5
}
