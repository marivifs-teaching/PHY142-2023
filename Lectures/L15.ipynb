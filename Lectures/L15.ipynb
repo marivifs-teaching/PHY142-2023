{
 "cells": [
  {
   "cell_type": "markdown",
   "id": "e7fbb27d",
   "metadata": {},
   "source": [
    "## Lecture 15 - Magnetic Fields"
   ]
  },
  {
   "cell_type": "markdown",
   "id": "4ed9e857",
   "metadata": {},
   "source": [
    "### Magnets\n",
    "\n",
    "What we typically refer to as a [magnet](https://en.wikipedia.org/wiki/Magnet), ie. a material that spontaneously produces a magnetic field, is in fact a [ferromagnet](https://en.wikipedia.org/wiki/Ferromagnetism). The name comes from the region where ferromagnetic stones were found in ancient Greek times, but magnets were also known in the same time period in India and China.\n",
    "\n",
    "A [compass](https://en.wikipedia.org/wiki/Compass) is a freely suspended ferromagnet that can be used for navigation, or, as we will use it in this lecture, to determine the direction of a magnetic field.\n"
   ]
  },
  {
   "cell_type": "markdown",
   "id": "368755b9",
   "metadata": {},
   "source": [
    "### Poles\n",
    "\n",
    "We are familiar with the idea that magnet has poles, and that like poles repel and unlike poles attract. \n",
    "\n",
    "![im.png](images/poleforces.png)"
   ]
  },
  {
   "cell_type": "markdown",
   "id": "0474ba09",
   "metadata": {},
   "source": [
    "### What is a pole?\n",
    "\n",
    "Poles always come in pairs, magnetic monopoles would be highly theoretically interesting, but have not been observed in experiment. A magnetic monopole would be the magnetic equivalent of charge and would act as a source or sink of magnetic field.  \n",
    "\n",
    "We can think of a magnet as having a particular magnetization direction, and we can then understand why if we break a magnet we end up with the creation of another pair of poles. In the context of the bar magnet we can consider the poles to describe the ends of a magnetic material.\n",
    "![im.png](images/breakingmagnet.png)"
   ]
  },
  {
   "cell_type": "markdown",
   "id": "e1f84927",
   "metadata": {},
   "source": [
    "### Magnetic Field Lines\n",
    "\n",
    "As with electric fields it can be useful to draw lines the reflect the magnetic field at a point. Field lines point from North to South.\n",
    "\n",
    "The lack of magnetic monopoles means that magnetic field lines do not begin or end anywhere. So in the case of a bar magnet we can see that the field lines that we can measure outside the magnet continue within it to close the loop.\n",
    "\n",
    "![im.png](images/barmagnetfield.png)\n",
    "\n",
    " (Click [here](http://hyperphysics.phy-astr.gsu.edu/hbase/magnetic/elemag.html) for another diagram)"
   ]
  },
  {
   "cell_type": "markdown",
   "id": "a665e93d",
   "metadata": {},
   "source": [
    "### Earth's magnetic field\n",
    "\n",
    "The fact that a compass works demonstrates that the [Earth](https://en.wikipedia.org/wiki/Earth's_magnetic_field) has a magnetic field. The magnetic field of the earth is also important in shielding the earth from cosmic radiation. We should note that the magnetic North Pole is actually a magnetic south pole, and the magnetic South Pole is actually a magnetic north pole.\n",
    "\n",
    "\n",
    "The Earth's magnetic poles move around, and in fact can flip their direction completely. This might suggest to us that the magnetic field, unlike in our bar magnet, is due to some kind of dynamic process. In fact the Earth's magnetic field is due to electric currents in the outer liquid core. So we should discuss how an electric current gives rise to a magnetic field. \n"
   ]
  },
  {
   "cell_type": "markdown",
   "id": "5313b466",
   "metadata": {},
   "source": [
    "### Magnetic field due to a current carrying wire\n",
    "\n",
    "If we put current through a wire we can measure that it produces a magnetic field. The direction of the field can be determined by a [right hand rule](http://upload.wikimedia.org/wikipedia/commons/3/3e/Manoderecha.svg). The experiment we (might) perform today was first performed by [Hans Chrisitan Oersted](https://en.wikipedia.org/wiki/Hans_Christian_Ørsted) who first noticed the effect on a compass due to a current during a lecture in 1820.\n"
   ]
  },
  {
   "cell_type": "markdown",
   "id": "13c5e461",
   "metadata": {},
   "source": [
    "### Magnetic field due to a current carrying loop\n",
    "\n",
    "If we make the wire in to a loop we can again apply the right hand rule to determine the direction of the magnetic field. We can compare the field distribution to the one we measured for the bar magnet.\n"
   ]
  },
  {
   "cell_type": "markdown",
   "id": "3dacd970",
   "metadata": {},
   "source": [
    "### Force on a current carrying wire\n",
    "\n",
    "Having seen that a current carrying wire produces a magnetic field, we can now see whether a magnetic field exerts a force on a current carrying wire. In doing so we will be able to produce a definition of the magnetic field $\\vec{B}$.\n",
    "\n",
    "The direction of the force can be determined in a [Jumping wire](http://www.youtube.com/watch?v=tUCtCYty-ns) experiment. Further experiment would reveal that the force on a wire is always perpendicular to both the current and the field, so we can see that we can use a [right hand rule](https://en.wikipedia.org/wiki/Right-hand_rule) to determine the direction of the force.\n",
    "\n",
    "I can use a slightly different form of the right hand rule to the one on Wikipedia. I make my parallel fingers the field lines $\\vec{B}$, my thumb the current $\\vec{I}$ and the force $\\vec{F}$ is the direction of the palm of my hand (the direction I would push).\n"
   ]
  },
  {
   "cell_type": "markdown",
   "id": "40978e5f",
   "metadata": {},
   "source": [
    "### Magnitude of magnetic field\n",
    "\n",
    "If we consider wire of which length $l$ lies within a magnetic field we find that the force depends on $l$ as well as the current $I$. We can write an equation that contains this information as well as the right hand rule for the direction that we identified earlier. We can give the length of the wire a direction and make it a vector $\\vec{l}$. The current is then defined to be positive when it flows in the direction of the length vector. The force is then\n",
    "\n",
    "$\\vec{F}=I\\vec{l}\\times\\vec{B}$\n",
    "\n",
    "or in the diagram below\n",
    "\n",
    "$F=IlB\\sin\\theta$\n",
    "\n",
    "![im.png](images/magforceonwire.png)\n",
    "\n",
    "We can also chop the length up in to infinitesimal pieces which produce infinitesimal forces to accommodate a wire that changes it's direction with respect to a magnetic field, or a non-uniform magnetic field.\n",
    "\n",
    "$d\\vec{F}=I\\,d\\vec{l}\\times\\vec{B}$\n",
    "\n"
   ]
  },
  {
   "cell_type": "markdown",
   "id": "785418e8",
   "metadata": {},
   "source": [
    "### Units of magnetic field\n",
    "\n",
    "The SI unit of magnetic field is the Tesla $\\mathrm{T}$, named after [Nikola Tesla](https://en.wikipedia.org/wiki/Nikola_Tesla).\n",
    "\n",
    "Another unit for magnetic field is the Gauss $\\mathrm{G}$, $1\\mathrm{G}=10^{-4}\\mathrm{T}$\n",
    "\n",
    "A Tesla is a fairly big magnetic field (some records can be found on the [National Magnet Lab](https://nationalmaglab.org/about-the-maglab/facts-figures/world-records/)"
   ]
  },
  {
   "cell_type": "code",
   "execution_count": null,
   "id": "1c64b0ff",
   "metadata": {},
   "outputs": [],
   "source": []
  }
 ],
 "metadata": {
  "kernelspec": {
   "display_name": "Python 3 (ipykernel)",
   "language": "python",
   "name": "python3"
  },
  "language_info": {
   "codemirror_mode": {
    "name": "ipython",
    "version": 3
   },
   "file_extension": ".py",
   "mimetype": "text/x-python",
   "name": "python",
   "nbconvert_exporter": "python",
   "pygments_lexer": "ipython3",
   "version": "3.9.10"
  }
 },
 "nbformat": 4,
 "nbformat_minor": 5
}
