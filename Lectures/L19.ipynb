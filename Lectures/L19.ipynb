{
 "cells": [
  {
   "cell_type": "markdown",
   "id": "143c0ceb",
   "metadata": {},
   "source": [
    "## Lecture 19 - Biot-Savart Law"
   ]
  },
  {
   "cell_type": "markdown",
   "id": "9a3589cf",
   "metadata": {},
   "source": [
    "### Biot-Savart Law\n",
    "\n",
    "The [Biot-Savart law](https://en.wikipedia.org/wiki/Biot–Savart_law) gives a different approach for obtaining the field due to a current distribution. The field at some point in space due to an infinitesimal length $d\\vec{l}$ through which a current $I$ flows is\n",
    "\n",
    "$d\\vec{B}=\\frac{\\mu_{0}I}{4\\pi}\\frac{d\\vec{l}\\times\\hat{r}}{r^{2}}$\n",
    "\n",
    "$\\vec{r}$ is the displacement vector from the element $d\\vec{l}$ to to the point and $\\hat{r}$ is the unit vector in the direction of $\\vec{r}$.\n",
    "\n",
    "![im.png](images/biotsavart.png)\n",
    "\n",
    "In the above diagram the magnitude of $d\\vec{B}$ is\n",
    "\n",
    "$dB=\\frac{\\mu_{0}Idl\\sin\\theta}{4\\pi r^{2}}$\n",
    "\n",
    "The total magnetic field is found by integrating over all the elements\n",
    "\n",
    "$\\vec{B}=\\int d\\vec{B}=\\frac{\\mu_{0}I}{4\\pi}\\int\\frac{d\\vec{l}\\times\\hat{r}}{r^{2}}$\n",
    "\n",
    "We have to pay attention the directions of the $d\\vec{B}$ vectors when we evaluate this integral!"
   ]
  },
  {
   "cell_type": "markdown",
   "id": "70be78ab",
   "metadata": {},
   "source": [
    "### Magnetic field due to a infinite straight wire\n",
    "\n",
    "![im.png](images/biossavartwire.png\n",
    "\n",
    "$\\vec{B}=\\int d\\vec{B}=\\frac{\\mu_{0}I}{4\\pi}\\int\\frac{d\\vec{l}\\times\\hat{r}}{r^{2}}=\\frac{\\mu_{0}I}{4\\pi}\\int_{-\\infty}^{\\infty}\\frac{dy\\sin\\theta}{r^{2}}$\n",
    "\n",
    "\n",
    "We need to write $r$ in terms of $y$, $r^{2}=R^{2}+y^{2}$ but we also need to realize that $y$ and $\\theta$ are related to each other and $\\sin\\theta=\\frac{R}{r}$.\n",
    "\n",
    "\n",
    "$\\vec{B}=\\frac{\\mu_{0}I}{4\\pi}\\int_{-\\infty}^{\\infty}\\frac{dy\\sin\\theta}{r^{2}}=\\frac{\\mu_{0}I}{4\\pi}\\int_{-\\infty}^{\\infty}\\frac{R\\,dy}{r^{3}}=\\frac{\\mu_{0}I}{4\\pi}\\int_{-\\infty}^{\\infty}\\frac{R\\,dy}{(R^{2}+y^{2})^{3/2}}$\n",
    "\n",
    "\n",
    "$=\\frac{\\mu_{0}I}{4\\pi}\\int_{-\\infty}^{\\infty}\\frac{1}{R}(\\frac{R^2\\,dy}{(R^{2}+y^{2})^{3/2}})=\\frac{\\mu_{0}I}{4\\pi}\\int_{-\\infty}^{\\infty}\\frac{1}{R}(\\frac{R^{2}+y^{2}}{(R^{2}+y^{2})^{3/2}}-\\frac{y^{2}}{(R^{2}+y^{2})^{3/2}})\\,dy$\n",
    "\n",
    "\n",
    "$=\\frac{\\mu_{0}I}{4\\pi}\\int_{-\\infty}^{\\infty}\\frac{1}{R}(\\frac{1}{(R^{2}+y^{2})^{1/2}}-\\frac{y^{2}}{(R^{2}+y^{2})^{3/2}})\\,dy=\\frac{\\mu_{0}I}{4\\pi}[\\frac{1}{R}\\frac{y}{(R^{2}+y^{2})^{1/2}}]_{-\\infty}^{\\infty}$\n",
    "\n",
    "\n",
    "$=\\frac{\\mu_{0}I}{4\\pi}\\frac{2}{R}=\\frac{\\mu_{0}I}{2\\pi R}$\n"
   ]
  },
  {
   "cell_type": "markdown",
   "id": "ed8fb49c",
   "metadata": {},
   "source": [
    "### Magnetic field due to a finite length of wire\n",
    "\n",
    "Taking in to account the Biot-Savart Law\n",
    "\n",
    "\n",
    "$d\\vec{B}=\\frac{\\mu_{0}I}{4\\pi}\\frac{d\\vec{l}\\times\\hat{r}}{r^{2}}$\n",
    "\n",
    "\n",
    "and/or our previous result for an infinite wire\n",
    "\n",
    "\n",
    "$B=\\frac{\\mu_{0}I}{4\\pi}[\\frac{1}{R}\\frac{y}{(R^{2}+y^{2})^{1/2}}]_{-\\infty}^{\\infty}=\\frac{\\mu_{0}I}{4\\pi}\\frac{2}{R}=\\frac{\\mu_{0}I}{2\\pi R}$\n",
    "\n",
    "\n",
    "we can deduce that for any finite straight length of wire starting at $y_{1}$ and ending at $y_{2}$, where the point at which the field is measured is considered to be the origin,\n",
    "\n",
    "\n",
    "$B=\\frac{\\mu_{0}I}{4\\pi}[\\frac{1}{R}\\frac{y}{(R^{2}+y^{2})^{1/2}}]_{y_{1}}^{y_{2}}$\n",
    "\n",
    "\n",
    "![im.pmg](images/biossavartwire.png)\n",
    "\n",
    "![im.png](images/biotsavartfinitewire.png)\n",
    "\n",
    "In the above figure it can be shown that the field at point 1 is\n",
    "\n",
    "$B=\\frac{\\mu_{0}I}{4\\pi}\\frac{2}{\\sqrt{5}}\\frac{1}{d}$\n",
    "\n",
    "at point 2 is \n",
    "\n",
    "$B=\\frac{\\mu_{0}I}{4\\pi}\\frac{1}{\\sqrt{2}}\\frac{1}{d}$\n",
    "\n",
    "and at point 3 is\n",
    "\n",
    "$B=0$\n"
   ]
  },
  {
   "cell_type": "markdown",
   "id": "119b320f",
   "metadata": {},
   "source": [
    "### Magnetic field at points around a square current loop\n",
    "\n",
    "We can take a similar approach to find the field at various points around a square loop\n",
    "\n",
    "$B=\\frac{\\mu_{0}I}{4\\pi}[\\frac{1}{R}\\frac{y}{(R^{2}+y^{2})^{1/2}}]_{y_{1}}^{y_{2}}$\n",
    "\n",
    "![im.png](images/biotsavartsquare.png)\n"
   ]
  },
  {
   "cell_type": "markdown",
   "id": "04886b46",
   "metadata": {},
   "source": [
    "### Magnetic field due to a curved segment\n",
    "\n",
    "The Biot-Savart law $d\\vec{B}=\\frac{\\mu_{0}I}{4\\pi}\\frac{d\\vec{l}\\times\\hat{r}}{r^{2}}$ tells us that current parallel to $\\hat{r}$, or in other words current flowing directly towards or away from a point does not produce a magnetic field.\n",
    "\n",
    "So in the following example we only need to consider the current due the curved part of the wire.\n",
    "![im.png](images/biotsavartsegment.png)\n",
    "\n",
    "Everywhere along the wire $d\\vec{l}$ is perpendicular to $\\hat{r}$ and the contribution from each length element points in the same direction, so $dB=\\frac{\\mu_{0}I\\,dl}{4\\pi R^{2}}$.\n",
    "\n",
    "$B=\\int\\,dB=\\frac{\\mu_{0}I}{4\\pi R^{2}}\\int\\,dl=\\frac{\\mu_{0}I}{4\\pi R^{2}}(\\frac{1}{4}2\\pi R)=\\frac{\\mu_{0}I}{8R}$\n",
    "\n"
   ]
  },
  {
   "cell_type": "markdown",
   "id": "c7b84e3d",
   "metadata": {},
   "source": [
    "### Magnetic field on the axis of a circular current loop\n",
    "\n",
    "![im.png](images/biotsavartloop.png)\n",
    "\n",
    "In the case of a current loop the Biot-Savart Law, $d\\vec{B}=\\frac{\\mu_{0}I}{4\\pi}\\frac{d\\vec{l}\\times\\hat{r}}{r^{2}}$, tells us that magnetic field $d\\vec{B}$ for a point on the $x$ axis due to a length element $d\\vec{l}$ has magnitude\n",
    "\n",
    "$dB=\\frac{\\mu_{0}I\\,dl}{4\\pi r^{2}}$.\n",
    "\n",
    "Here we should note that $d\\vec{l}$ is always perpendicular to $r$ and the direction of the field that is produced may be determined by the right hand rule.\n",
    "\n",
    "We can note that the symmetry of the situation will lead to the magnetic field perpendicular to the axis cancelling out when we integrate over all the contributions from the loop, so we can write that\n",
    "\n",
    "$B=B_{||}=\\int\\,dB_{||}=\\int\\,dB\\cos\\phi=\\int\\,dB\\frac{R}{r}=\\int\\,dB\\frac{R}{(R^{2}+x^{2})^{1/2}}$\n",
    "\n",
    "$=\\int\\,\\frac{\\mu_{0}I\\,dl}{4\\pi r^{2}}\\frac{R}{(R^{2}+x^{2})^{1/2}}=\\frac{\\mu_{0}I}{4\\pi}\\frac{R}{(R^{2}+x^{2})^{3/2}}\\int\\,dl$\n",
    "\n",
    "$=\\frac{\\mu_{0}I}{4\\pi}\\frac{R}{(R^{2}+x^{2})^{3/2}}2\\pi R=\\frac{\\mu_{0}IR^{2}}{2(R^{2}+x^{2})^{3/2}}$\n"
   ]
  },
  {
   "cell_type": "markdown",
   "id": "06659562",
   "metadata": {},
   "source": [
    "### Current loop as a magnetic dipole\n",
    "\n",
    "We saw [previously](lec16) that a current loop in a magnetic field could be described by giving it a dipole moment, \n",
    "$\\vec{\\mu}=NI\\vec{A}$.\n",
    "\n",
    "We can now see that the field due the the loop can also be described in these terms\n",
    "\n",
    "$B=\\frac{\\mu_{0}IR^{2}}{2(R^{2}+x^{2})^{3/2}}=\\frac{\\mu_{0}}{2\\pi}\\frac{\\mu}{(R^{2}+x^{2})^{3/2}}$\n",
    "\n",
    "We can use [Falstad's applet](http://www.falstad.com/vector3dm/) to look at the field distribution around the loop.\n",
    "\n",
    "We can see that just like for the electric dipole as we get further away from the dipole the field decreases by an inverse cube law\n",
    "\n",
    "For $x>>R$, $B=\\frac{\\mu_{0}}{2\\pi}\\frac{\\mu}{x^{3}}$\n",
    "\n",
    "We could use the Biot-Savart law to find the field at any point, not just along the dipole axis..but the symmetry would not be as kind to us.\n",
    "\n",
    "In our next lecture we will see how atoms, and even electrons themselves can be seen as miniature current loops which give rise to magnetic dipole moments, and then discuss how the interactions between these magnetic dipoles in the material lead to the macroscopic magnetic properties we see in different materials.\n"
   ]
  },
  {
   "cell_type": "code",
   "execution_count": null,
   "id": "9b80dba9",
   "metadata": {},
   "outputs": [],
   "source": []
  }
 ],
 "metadata": {
  "kernelspec": {
   "display_name": "Python 3 (ipykernel)",
   "language": "python",
   "name": "python3"
  },
  "language_info": {
   "codemirror_mode": {
    "name": "ipython",
    "version": 3
   },
   "file_extension": ".py",
   "mimetype": "text/x-python",
   "name": "python",
   "nbconvert_exporter": "python",
   "pygments_lexer": "ipython3",
   "version": "3.9.10"
  }
 },
 "nbformat": 4,
 "nbformat_minor": 5
}
